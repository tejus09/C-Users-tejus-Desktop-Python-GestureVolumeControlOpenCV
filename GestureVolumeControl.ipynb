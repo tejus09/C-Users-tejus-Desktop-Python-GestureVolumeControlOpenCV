{
 "cells": [
  {
   "cell_type": "code",
   "execution_count": 1,
   "id": "c12a909c",
   "metadata": {},
   "outputs": [],
   "source": [
    "import cv2\n",
    "import mediapipe as mp\n",
    "import numpy as np\n",
    "import time\n",
    "import math\n",
    "from ctypes import cast, POINTER\n",
    "from comtypes import CLSCTX_ALL\n",
    "from pycaw.pycaw import AudioUtilities, IAudioEndpointVolume\n",
    "devices = AudioUtilities.GetSpeakers()\n",
    "interface = devices.Activate(\n",
    "    IAudioEndpointVolume._iid_, CLSCTX_ALL, None)\n",
    "volume = cast(interface, POINTER(IAudioEndpointVolume))\n",
    "# volume.GetMute()\n",
    "# volume.GetMasterVolumeLevel()\n",
    "volRange = volume.GetVolumeRange()\n",
    "volume.SetMasterVolumeLevel(0, None)\n",
    "minVol = volRange[0]\n",
    "maxVol = volRange[1]\n",
    "cap = cv2.VideoCapture(0)\n",
    "mp_hand = mp.solutions.hands\n",
    "mp_draw = mp.solutions.drawing_utils\n",
    "with mp_hand.Hands(min_detection_confidence=0.9, min_tracking_confidence=0.9, max_num_hands=2) as hands:\n",
    "    pTime = 0\n",
    "    while cap.isOpened():\n",
    "        lmList = []\n",
    "        ret, frame = cap.read()\n",
    "        image = cv2.cvtColor(frame, cv2.COLOR_BGR2RGB)\n",
    "        results = hands.process(image)\n",
    "        image = cv2.cvtColor(image, cv2.COLOR_RGB2BGR)\n",
    "        if results.multi_hand_landmarks:\n",
    "            for hand in results.multi_hand_landmarks:\n",
    "                mp_draw.draw_landmarks(image, hand, mp_hand.HAND_CONNECTIONS, mp_draw.DrawingSpec(color=(121, 22, 76), thickness=2, circle_radius=4), mp_draw.DrawingSpec(color=(0, 255, ), thickness=2, circle_radius=2))\n",
    "            for id, lm in enumerate(results.multi_hand_landmarks[0].landmark):\n",
    "                h,w,c=image.shape\n",
    "                cx,cy=int(lm.x*w),int(lm.y*h)\n",
    "                lmList.append([cx,cy])\n",
    "            if len(lmList):\n",
    "                x1, y1 = lmList[4][0], lmList[4][1]\n",
    "                x2, y2 = lmList[8][0], lmList[8][1]\n",
    "                cx, cy = (x1+x2)//2, (y1+y2)//2 \n",
    "                cv2.circle(image,(x1,y1),10,(121, 22, 76),cv2.FILLED)\n",
    "                cv2.circle(image,(x2,y2),10,(121, 22, 76),cv2.FILLED)\n",
    "                cv2.line(image,(x1,y1),(x2,y2),(121, 22, 76),3,cv2.FILLED)\n",
    "                cv2.circle(image, (cx, cy), 10, (121, 22, 76), cv2.FILLED)\n",
    "                length = math.hypot(x1-x2, y1-y2)\n",
    "                if length < 50:\n",
    "                    cv2.circle(image, (cx, cy), 15, (0, 255, 0), cv2.FILLED)\n",
    "                vol = np.interp(length, [50, 300], [minVol, maxVol])\n",
    "                volBar = np.interp(length, [50, 300], [400, 150])\n",
    "                volPer=np.interp(length, [50,300], [0,100])\n",
    "                volume.SetMasterVolumeLevel(vol, None)\n",
    "                cv2.rectangle(image,(50,150),(85,400),(0,255,0), 3, cv2.FILLED)\n",
    "                cv2.rectangle(image,(50,int(volBar)),(85,400),(0,255,0),cv2.FILLED)\n",
    "                cv2.putText(image, f'{int(volPer)}', (40, 450), cv2.FONT_HERSHEY_SCRIPT_COMPLEX, 1, (0, 255, 0), 2)\n",
    "        cTime = time.time()\n",
    "        fps = 1/(cTime-pTime)\n",
    "        pTime = cTime\n",
    "        cv2.imshow(\"Image\", image)\n",
    "        k = cv2.waitKey(1)\n",
    "        if k == ord('q'):\n",
    "            break\n",
    "cap.release()\n",
    "cv2.destroyAllWindows()"
   ]
  }
 ],
 "metadata": {
  "kernelspec": {
   "display_name": "Python 3.10.5 64-bit (windows store)",
   "language": "python",
   "name": "python3"
  },
  "language_info": {
   "codemirror_mode": {
    "name": "ipython",
    "version": 3
   },
   "file_extension": ".py",
   "mimetype": "text/x-python",
   "name": "python",
   "nbconvert_exporter": "python",
   "pygments_lexer": "ipython3",
   "version": "3.10.6"
  },
  "vscode": {
   "interpreter": {
    "hash": "ba07ef5f012c0020c4fb15c2c02bd02ef01fea8d9c5ca1897826b43e39d353b3"
   }
  }
 },
 "nbformat": 4,
 "nbformat_minor": 5
}
